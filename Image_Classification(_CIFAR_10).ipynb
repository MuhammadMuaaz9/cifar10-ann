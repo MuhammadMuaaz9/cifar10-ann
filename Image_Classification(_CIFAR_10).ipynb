{
  "cells": [
    {
      "cell_type": "markdown",
      "id": "e97065eb",
      "metadata": {
        "id": "e97065eb"
      },
      "source": [
        "## Image Classification with ANN using the CIFAR-10 dataset"
      ]
    },
    {
      "cell_type": "markdown",
      "id": "60a2a80b",
      "metadata": {
        "id": "60a2a80b"
      },
      "source": [
        "Load the libraries"
      ]
    },
    {
      "cell_type": "code",
      "execution_count": null,
      "id": "e4b0e12d",
      "metadata": {
        "id": "e4b0e12d"
      },
      "outputs": [],
      "source": [
        "from keras.models import Sequential\n",
        "from keras.layers import Dense, Dropout, Input\n",
        "from keras.optimizers import Adam\n",
        "\n",
        "import numpy as np\n",
        "import pandas as pd\n",
        "\n",
        "import matplotlib.pyplot as plt\n",
        "\n",
        "import tensorflow as tf\n",
        "\n",
        "%matplotlib inline\n",
        "np.random.seed(1)"
      ]
    },
    {
      "cell_type": "markdown",
      "id": "9f043785",
      "metadata": {
        "id": "9f043785"
      },
      "source": [
        "Loading the Training and Testing Data"
      ]
    },
    {
      "cell_type": "code",
      "execution_count": 2,
      "id": "c6b0845b",
      "metadata": {
        "id": "c6b0845b"
      },
      "outputs": [],
      "source": [
        "from tensorflow.keras.datasets import cifar10"
      ]
    },
    {
      "cell_type": "code",
      "execution_count": 3,
      "id": "5c469aa2",
      "metadata": {
        "colab": {
          "base_uri": "https://localhost:8080/"
        },
        "id": "5c469aa2",
        "outputId": "05a3d7fd-bffb-4987-8301-dea740e066c5"
      },
      "outputs": [
        {
          "name": "stdout",
          "output_type": "stream",
          "text": [
            "Downloading data from https://www.cs.toronto.edu/~kriz/cifar-10-python.tar.gz\n",
            "\u001b[1m170498071/170498071\u001b[0m \u001b[32m━━━━━━━━━━━━━━━━━━━━\u001b[0m\u001b[37m\u001b[0m \u001b[1m4s\u001b[0m 0us/step\n"
          ]
        }
      ],
      "source": [
        "# Load data and split into train and test sets\n",
        "(train_x, train_y), (test_x, test_y) = cifar10.load_data()"
      ]
    },
    {
      "cell_type": "code",
      "execution_count": 4,
      "id": "3fd7d6d2",
      "metadata": {
        "colab": {
          "base_uri": "https://localhost:8080/"
        },
        "id": "3fd7d6d2",
        "outputId": "fb373307-1300-458e-c80b-c344e7330fa3"
      },
      "outputs": [
        {
          "name": "stdout",
          "output_type": "stream",
          "text": [
            "Training images shape: (50000, 32, 32, 3)\n",
            "Training labels shape: (50000, 1)\n",
            "Test images shape: (10000, 32, 32, 3)\n",
            "Test labels shape: (10000, 1)\n"
          ]
        }
      ],
      "source": [
        "\n",
        "print(\"Training images shape:\", train_x.shape)\n",
        "print(\"Training labels shape:\", train_y.shape)\n",
        "print(\"Test images shape:\", test_x.shape)\n",
        "print(\"Test labels shape:\", test_y.shape)\n"
      ]
    },
    {
      "cell_type": "markdown",
      "id": "63325612",
      "metadata": {
        "id": "63325612"
      },
      "source": [
        "Check Image"
      ]
    },
    {
      "cell_type": "code",
      "execution_count": 5,
      "id": "341ffd19",
      "metadata": {
        "colab": {
          "base_uri": "https://localhost:8080/",
          "height": 72
        },
        "id": "341ffd19",
        "outputId": "90bc647d-2290-4267-97bc-ba373c47e35f"
      },
      "outputs": [
        {
          "data": {
            "text/html": [
              "<style>\n",
              "      .ndarray_repr .ndarray_raw_data {\n",
              "        display: none;\n",
              "      }\n",
              "      .ndarray_repr.show_array .ndarray_raw_data {\n",
              "        display: block;\n",
              "      }\n",
              "      .ndarray_repr.show_array .ndarray_image_preview {\n",
              "        display: none;\n",
              "      }\n",
              "      </style>\n",
              "      <div id=\"id-c732960f-7425-4a74-95cd-cb650be139b9\" class=\"ndarray_repr\"><pre>ndarray (32, 32, 3) <button style=\"padding: 0 2px;\">show data</button></pre><img src=\"data:image/png;base64,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\" class=\"ndarray_image_preview\" /><pre class=\"ndarray_raw_data\">array([[[150, 183, 202],\n",
              "        [151, 185, 201],\n",
              "        [152, 188, 201],\n",
              "        ...,\n",
              "        [147, 184, 201],\n",
              "        [144, 181, 197],\n",
              "        [141, 177, 195]],\n",
              "\n",
              "       [[158, 190, 206],\n",
              "        [159, 192, 205],\n",
              "        [161, 195, 204],\n",
              "        ...,\n",
              "        [157, 192, 206],\n",
              "        [153, 188, 203],\n",
              "        [150, 184, 199]],\n",
              "\n",
              "       [[164, 193, 203],\n",
              "        [163, 195, 202],\n",
              "        [167, 197, 203],\n",
              "        ...,\n",
              "        [163, 194, 206],\n",
              "        [159, 191, 203],\n",
              "        [155, 187, 200]],\n",
              "\n",
              "       ...,\n",
              "\n",
              "       [[174, 146, 103],\n",
              "        [178, 151, 108],\n",
              "        [162, 138,  93],\n",
              "        ...,\n",
              "        [195, 168, 120],\n",
              "        [180, 154, 105],\n",
              "        [189, 166, 121]],\n",
              "\n",
              "       [[185, 159, 115],\n",
              "        [173, 148, 101],\n",
              "        [166, 142,  91],\n",
              "        ...,\n",
              "        [199, 172, 126],\n",
              "        [186, 158, 111],\n",
              "        [173, 149, 108]],\n",
              "\n",
              "       [[178, 155, 111],\n",
              "        [161, 137,  90],\n",
              "        [168, 142,  92],\n",
              "        ...,\n",
              "        [189, 162, 119],\n",
              "        [191, 164, 120],\n",
              "        [154, 130,  94]]], dtype=uint8)</pre></div><script>\n",
              "      (() => {\n",
              "      const titles = ['show data', 'hide data'];\n",
              "      let index = 0\n",
              "      document.querySelector('#id-c732960f-7425-4a74-95cd-cb650be139b9 button').onclick = (e) => {\n",
              "        document.querySelector('#id-c732960f-7425-4a74-95cd-cb650be139b9').classList.toggle('show_array');\n",
              "        index = (++index) % 2;\n",
              "        document.querySelector('#id-c732960f-7425-4a74-95cd-cb650be139b9 button').textContent = titles[index];\n",
              "        e.preventDefault();\n",
              "        e.stopPropagation();\n",
              "      }\n",
              "      })();\n",
              "    </script>"
            ],
            "text/plain": [
              "array([[[150, 183, 202],\n",
              "        [151, 185, 201],\n",
              "        [152, 188, 201],\n",
              "        ...,\n",
              "        [147, 184, 201],\n",
              "        [144, 181, 197],\n",
              "        [141, 177, 195]],\n",
              "\n",
              "       [[158, 190, 206],\n",
              "        [159, 192, 205],\n",
              "        [161, 195, 204],\n",
              "        ...,\n",
              "        [157, 192, 206],\n",
              "        [153, 188, 203],\n",
              "        [150, 184, 199]],\n",
              "\n",
              "       [[164, 193, 203],\n",
              "        [163, 195, 202],\n",
              "        [167, 197, 203],\n",
              "        ...,\n",
              "        [163, 194, 206],\n",
              "        [159, 191, 203],\n",
              "        [155, 187, 200]],\n",
              "\n",
              "       ...,\n",
              "\n",
              "       [[174, 146, 103],\n",
              "        [178, 151, 108],\n",
              "        [162, 138,  93],\n",
              "        ...,\n",
              "        [195, 168, 120],\n",
              "        [180, 154, 105],\n",
              "        [189, 166, 121]],\n",
              "\n",
              "       [[185, 159, 115],\n",
              "        [173, 148, 101],\n",
              "        [166, 142,  91],\n",
              "        ...,\n",
              "        [199, 172, 126],\n",
              "        [186, 158, 111],\n",
              "        [173, 149, 108]],\n",
              "\n",
              "       [[178, 155, 111],\n",
              "        [161, 137,  90],\n",
              "        [168, 142,  92],\n",
              "        ...,\n",
              "        [189, 162, 119],\n",
              "        [191, 164, 120],\n",
              "        [154, 130,  94]]], dtype=uint8)"
            ]
          },
          "execution_count": 5,
          "metadata": {},
          "output_type": "execute_result"
        }
      ],
      "source": [
        "train_x[102]"
      ]
    },
    {
      "cell_type": "code",
      "execution_count": 6,
      "id": "c70da4c2",
      "metadata": {
        "id": "c70da4c2"
      },
      "outputs": [],
      "source": [
        "# (b, g, r) = train_x[102][0][0]\n",
        "# print(f\"R = {r}, G = {g}, B = {b}\")"
      ]
    },
    {
      "cell_type": "code",
      "execution_count": 7,
      "id": "53eeabb9",
      "metadata": {
        "colab": {
          "base_uri": "https://localhost:8080/",
          "height": 430
        },
        "id": "53eeabb9",
        "outputId": "4109aee8-bba6-4c58-8f50-c17c7fdf97a2"
      },
      "outputs": [
        {
          "data": {
            "image/png": "[encoded data removed]",
            "text/plain": [
              "<Figure size 640x480 with 1 Axes>"
            ]
          },
          "metadata": {},
          "output_type": "display_data"
        }
      ],
      "source": [
        "plt.imshow(train_x[102])\n",
        "plt.show()"
      ]
    },
    {
      "cell_type": "markdown",
      "id": "2d540fb1",
      "metadata": {
        "id": "2d540fb1"
      },
      "source": [
        "## Data Pre-processing"
      ]
    },
    {
      "cell_type": "markdown",
      "id": "a0f9b1d3",
      "metadata": {
        "id": "a0f9b1d3"
      },
      "source": [
        "Reshape or Flatten the data"
      ]
    },
    {
      "cell_type": "code",
      "execution_count": 8,
      "id": "39255327",
      "metadata": {
        "colab": {
          "base_uri": "https://localhost:8080/"
        },
        "id": "39255327",
        "outputId": "24f99547-a4b8-4a02-c205-970b65544067"
      },
      "outputs": [
        {
          "name": "stdout",
          "output_type": "stream",
          "text": [
            "(50000, 3072)\n"
          ]
        }
      ],
      "source": [
        "train_x_flatten = train_x.reshape(train_x.shape[0], -1)\n",
        "print (train_x_flatten.shape)"
      ]
    },
    {
      "cell_type": "code",
      "execution_count": 9,
      "id": "95afcd82",
      "metadata": {
        "colab": {
          "base_uri": "https://localhost:8080/"
        },
        "id": "95afcd82",
        "outputId": "a2ed5536-535c-4011-8391-5254a5432ac6"
      },
      "outputs": [
        {
          "name": "stdout",
          "output_type": "stream",
          "text": [
            "(10000, 3072)\n"
          ]
        }
      ],
      "source": [
        "test_x_flatten = test_x.reshape(test_x.shape[0], -1)\n",
        "print (test_x_flatten.shape)"
      ]
    },
    {
      "cell_type": "markdown",
      "id": "a548b48c",
      "metadata": {
        "id": "a548b48c"
      },
      "source": [
        "Scaling the data"
      ]
    },
    {
      "cell_type": "code",
      "execution_count": 10,
      "id": "51dbfd4b",
      "metadata": {
        "colab": {
          "base_uri": "https://localhost:8080/"
        },
        "id": "51dbfd4b",
        "outputId": "b08f2a99-ba08-47b4-d10e-236b555eba4c"
      },
      "outputs": [
        {
          "name": "stdout",
          "output_type": "stream",
          "text": [
            "(50000, 3072)\n",
            "[0.58823529 0.71764706 0.79215686 ... 0.60392157 0.50980392 0.36862745]\n"
          ]
        }
      ],
      "source": [
        "train_x = train_x_flatten/255\n",
        "print(train_x.shape)\n",
        "print(train_x[102])"
      ]
    },
    {
      "cell_type": "code",
      "execution_count": 11,
      "id": "101acf95",
      "metadata": {
        "colab": {
          "base_uri": "https://localhost:8080/"
        },
        "id": "101acf95",
        "outputId": "f5253afb-3abd-4e1d-a9f6-ec5aa46e67fe"
      },
      "outputs": [
        {
          "name": "stdout",
          "output_type": "stream",
          "text": [
            "(10000, 3072)\n",
            "[0.05882353 0.00392157 0.00392157 ... 0.03921569 0.0745098  0.03921569]\n"
          ]
        }
      ],
      "source": [
        "test_x = test_x_flatten/255\n",
        "print(test_x.shape)\n",
        "print(test_x[102])"
      ]
    },
    {
      "cell_type": "code",
      "execution_count": 12,
      "id": "6676d677",
      "metadata": {
        "colab": {
          "base_uri": "https://localhost:8080/"
        },
        "id": "6676d677",
        "outputId": "c815ad57-ec63-44d8-ecd0-1b397d544a48"
      },
      "outputs": [
        {
          "data": {
            "text/plain": [
              "array([6], dtype=uint8)"
            ]
          },
          "execution_count": 12,
          "metadata": {},
          "output_type": "execute_result"
        }
      ],
      "source": [
        "test_y[102]"
      ]
    },
    {
      "cell_type": "markdown",
      "id": "34de497c",
      "metadata": {
        "id": "34de497c"
      },
      "source": [
        "One hot encoding"
      ]
    },
    {
      "cell_type": "code",
      "execution_count": 13,
      "id": "d3378f1b",
      "metadata": {
        "colab": {
          "base_uri": "https://localhost:8080/"
        },
        "id": "d3378f1b",
        "outputId": "a33206c6-930d-4878-90d9-3109882a7ce8"
      },
      "outputs": [
        {
          "data": {
            "text/plain": [
              "array([[6],\n",
              "       [9],\n",
              "       [9],\n",
              "       ...,\n",
              "       [9],\n",
              "       [1],\n",
              "       [1]], dtype=uint8)"
            ]
          },
          "execution_count": 13,
          "metadata": {},
          "output_type": "execute_result"
        }
      ],
      "source": [
        "train_y"
      ]
    },
    {
      "cell_type": "code",
      "execution_count": 14,
      "id": "861e326a",
      "metadata": {
        "id": "861e326a"
      },
      "outputs": [],
      "source": [
        "from tensorflow.keras.utils import to_categorical"
      ]
    },
    {
      "cell_type": "code",
      "execution_count": 15,
      "id": "766ff638",
      "metadata": {
        "id": "766ff638"
      },
      "outputs": [],
      "source": [
        "train_y = to_categorical(train_y, num_classes=10)\n",
        "test_y = to_categorical(test_y, num_classes=10)"
      ]
    },
    {
      "cell_type": "code",
      "execution_count": 16,
      "id": "1774d71f",
      "metadata": {
        "colab": {
          "base_uri": "https://localhost:8080/"
        },
        "id": "1774d71f",
        "outputId": "e2c3eacf-a113-4876-f0c0-61933f3637a6"
      },
      "outputs": [
        {
          "name": "stdout",
          "output_type": "stream",
          "text": [
            "(50000, 10)\n",
            "(10000, 10)\n"
          ]
        }
      ],
      "source": [
        "print(train_y.shape)\n",
        "print(test_y.shape)"
      ]
    },
    {
      "cell_type": "markdown",
      "id": "7bc62366",
      "metadata": {
        "id": "7bc62366"
      },
      "source": [
        "## Modeling"
      ]
    },
    {
      "cell_type": "markdown",
      "id": "4gD9LpO1QNPI",
      "metadata": {
        "id": "4gD9LpO1QNPI"
      },
      "source": [
        "##### check"
      ]
    },
    {
      "cell_type": "code",
      "execution_count": 17,
      "id": "af8983f8",
      "metadata": {
        "id": "af8983f8"
      },
      "outputs": [],
      "source": [
        "from numpy.random import seed\n",
        "seed(1)\n",
        "\n",
        "tf.random.set_seed(2)"
      ]
    },
    {
      "cell_type": "code",
      "execution_count": 18,
      "id": "k5JrfgWALSPC",
      "metadata": {
        "id": "k5JrfgWALSPC"
      },
      "outputs": [],
      "source": [
        "train_x = train_x.astype('float32') / 255.0\n",
        "test_x = test_x.astype('float32') / 255.0"
      ]
    },
    {
      "cell_type": "code",
      "execution_count": 19,
      "id": "e3093d5b",
      "metadata": {
        "colab": {
          "base_uri": "https://localhost:8080/"
        },
        "id": "e3093d5b",
        "outputId": "a914019f-c16a-437d-fa78-2262f78414be"
      },
      "outputs": [
        {
          "data": {
            "text/plain": [
              "3072"
            ]
          },
          "execution_count": 19,
          "metadata": {},
          "output_type": "execute_result"
        }
      ],
      "source": [
        "train_x_flatten.shape[1]"
      ]
    },
    {
      "cell_type": "markdown",
      "id": "b92a5ef8",
      "metadata": {
        "id": "b92a5ef8"
      },
      "source": [
        "#### Starting with a basic model"
      ]
    },
    {
      "cell_type": "code",
      "execution_count": 23,
      "id": "7SWpYMdULui6",
      "metadata": {
        "id": "7SWpYMdULui6"
      },
      "outputs": [],
      "source": [
        "model = Sequential()\n",
        "\n",
        "model.add(Input(shape=(train_x_flatten.shape[1],)))\n",
        "\n",
        "model.add(Dense(512, activation='relu'))  # Hidden layer\n",
        "model.add(Dropout(0.2))\n",
        "\n",
        "model.add(Dense(256, activation='relu'))\n",
        "model.add(Dropout(0.2))\n",
        "\n",
        "model.add(Dense(128, activation='relu'))\n",
        "model.add(Dropout(0.2))\n",
        "\n",
        "model.add(Dense(64, activation='relu'))\n",
        "model.add(Dropout(0.2))\n",
        "\n",
        "model.add(Dense(10, activation='softmax')) # Output layer"
      ]
    },
    {
      "cell_type": "code",
      "execution_count": 24,
      "id": "01a2107f",
      "metadata": {
        "id": "01a2107f"
      },
      "outputs": [],
      "source": [
        "my_learning_rate = 0.0001\n",
        "opt = Adam(learning_rate=my_learning_rate)\n",
        "model.compile(optimizer=opt, loss='categorical_crossentropy', metrics=['accuracy'])"
      ]
    },
    {
      "cell_type": "code",
      "execution_count": 25,
      "id": "092f6219",
      "metadata": {
        "colab": {
          "base_uri": "https://localhost:8080/"
        },
        "id": "092f6219",
        "outputId": "9f01d1ce-c676-47be-9120-0380ae460c26"
      },
      "outputs": [
        {
          "name": "stdout",
          "output_type": "stream",
          "text": [
            "Epoch 1/50\n",
            "\u001b[1m782/782\u001b[0m \u001b[32m━━━━━━━━━━━━━━━━━━━━\u001b[0m\u001b[37m\u001b[0m \u001b[1m10s\u001b[0m 7ms/step - accuracy: 0.1513 - loss: 2.2506\n",
            "Epoch 2/50\n",
            "\u001b[1m782/782\u001b[0m \u001b[32m━━━━━━━━━━━━━━━━━━━━\u001b[0m\u001b[37m\u001b[0m \u001b[1m2s\u001b[0m 3ms/step - accuracy: 0.2417 - loss: 2.0081\n",
            "Epoch 3/50\n",
            "\u001b[1m782/782\u001b[0m \u001b[32m━━━━━━━━━━━━━━━━━━━━\u001b[0m\u001b[37m\u001b[0m \u001b[1m3s\u001b[0m 3ms/step - accuracy: 0.2747 - loss: 1.9417\n",
            "Epoch 4/50\n",
            "\u001b[1m782/782\u001b[0m \u001b[32m━━━━━━━━━━━━━━━━━━━━\u001b[0m\u001b[37m\u001b[0m \u001b[1m2s\u001b[0m 3ms/step - accuracy: 0.3009 - loss: 1.8972\n",
            "Epoch 5/50\n",
            "\u001b[1m782/782\u001b[0m \u001b[32m━━━━━━━━━━━━━━━━━━━━\u001b[0m\u001b[37m\u001b[0m \u001b[1m3s\u001b[0m 4ms/step - accuracy: 0.3155 - loss: 1.8608\n",
            "Epoch 6/50\n",
            "\u001b[1m782/782\u001b[0m \u001b[32m━━━━━━━━━━━━━━━━━━━━\u001b[0m\u001b[37m\u001b[0m \u001b[1m5s\u001b[0m 3ms/step - accuracy: 0.3307 - loss: 1.8307\n",
            "Epoch 7/50\n",
            "\u001b[1m782/782\u001b[0m \u001b[32m━━━━━━━━━━━━━━━━━━━━\u001b[0m\u001b[37m\u001b[0m \u001b[1m3s\u001b[0m 3ms/step - accuracy: 0.3414 - loss: 1.7999\n",
            "Epoch 8/50\n",
            "\u001b[1m782/782\u001b[0m \u001b[32m━━━━━━━━━━━━━━━━━━━━\u001b[0m\u001b[37m\u001b[0m \u001b[1m2s\u001b[0m 3ms/step - accuracy: 0.3482 - loss: 1.7800\n",
            "Epoch 9/50\n",
            "\u001b[1m782/782\u001b[0m \u001b[32m━━━━━━━━━━━━━━━━━━━━\u001b[0m\u001b[37m\u001b[0m \u001b[1m3s\u001b[0m 4ms/step - accuracy: 0.3604 - loss: 1.7592\n",
            "Epoch 10/50\n",
            "\u001b[1m782/782\u001b[0m \u001b[32m━━━━━━━━━━━━━━━━━━━━\u001b[0m\u001b[37m\u001b[0m \u001b[1m5s\u001b[0m 3ms/step - accuracy: 0.3664 - loss: 1.7396\n",
            "Epoch 11/50\n",
            "\u001b[1m782/782\u001b[0m \u001b[32m━━━━━━━━━━━━━━━━━━━━\u001b[0m\u001b[37m\u001b[0m \u001b[1m3s\u001b[0m 3ms/step - accuracy: 0.3739 - loss: 1.7220\n",
            "Epoch 12/50\n",
            "\u001b[1m782/782\u001b[0m \u001b[32m━━━━━━━━━━━━━━━━━━━━\u001b[0m\u001b[37m\u001b[0m \u001b[1m2s\u001b[0m 3ms/step - accuracy: 0.3782 - loss: 1.7044\n",
            "Epoch 13/50\n",
            "\u001b[1m782/782\u001b[0m \u001b[32m━━━━━━━━━━━━━━━━━━━━\u001b[0m\u001b[37m\u001b[0m \u001b[1m3s\u001b[0m 4ms/step - accuracy: 0.3876 - loss: 1.6875\n",
            "Epoch 14/50\n",
            "\u001b[1m782/782\u001b[0m \u001b[32m━━━━━━━━━━━━━━━━━━━━\u001b[0m\u001b[37m\u001b[0m \u001b[1m5s\u001b[0m 3ms/step - accuracy: 0.3928 - loss: 1.6712\n",
            "Epoch 15/50\n",
            "\u001b[1m782/782\u001b[0m \u001b[32m━━━━━━━━━━━━━━━━━━━━\u001b[0m\u001b[37m\u001b[0m \u001b[1m3s\u001b[0m 3ms/step - accuracy: 0.3973 - loss: 1.6585\n",
            "Epoch 16/50\n",
            "\u001b[1m782/782\u001b[0m \u001b[32m━━━━━━━━━━━━━━━━━━━━\u001b[0m\u001b[37m\u001b[0m \u001b[1m3s\u001b[0m 3ms/step - accuracy: 0.4111 - loss: 1.6361\n",
            "Epoch 17/50\n",
            "\u001b[1m782/782\u001b[0m \u001b[32m━━━━━━━━━━━━━━━━━━━━\u001b[0m\u001b[37m\u001b[0m \u001b[1m3s\u001b[0m 3ms/step - accuracy: 0.4135 - loss: 1.6211\n",
            "Epoch 18/50\n",
            "\u001b[1m782/782\u001b[0m \u001b[32m━━━━━━━━━━━━━━━━━━━━\u001b[0m\u001b[37m\u001b[0m \u001b[1m2s\u001b[0m 3ms/step - accuracy: 0.4219 - loss: 1.6089\n",
            "Epoch 19/50\n",
            "\u001b[1m782/782\u001b[0m \u001b[32m━━━━━━━━━━━━━━━━━━━━\u001b[0m\u001b[37m\u001b[0m \u001b[1m2s\u001b[0m 3ms/step - accuracy: 0.4204 - loss: 1.5967\n",
            "Epoch 20/50\n",
            "\u001b[1m782/782\u001b[0m \u001b[32m━━━━━━━━━━━━━━━━━━━━\u001b[0m\u001b[37m\u001b[0m \u001b[1m2s\u001b[0m 3ms/step - accuracy: 0.4316 - loss: 1.5845\n",
            "Epoch 21/50\n",
            "\u001b[1m782/782\u001b[0m \u001b[32m━━━━━━━━━━━━━━━━━━━━\u001b[0m\u001b[37m\u001b[0m \u001b[1m3s\u001b[0m 3ms/step - accuracy: 0.4354 - loss: 1.5634\n",
            "Epoch 22/50\n",
            "\u001b[1m782/782\u001b[0m \u001b[32m━━━━━━━━━━━━━━━━━━━━\u001b[0m\u001b[37m\u001b[0m \u001b[1m3s\u001b[0m 3ms/step - accuracy: 0.4399 - loss: 1.5572\n",
            "Epoch 23/50\n",
            "\u001b[1m782/782\u001b[0m \u001b[32m━━━━━━━━━━━━━━━━━━━━\u001b[0m\u001b[37m\u001b[0m \u001b[1m5s\u001b[0m 3ms/step - accuracy: 0.4466 - loss: 1.5470\n",
            "Epoch 24/50\n",
            "\u001b[1m782/782\u001b[0m \u001b[32m━━━━━━━━━━━━━━━━━━━━\u001b[0m\u001b[37m\u001b[0m \u001b[1m2s\u001b[0m 3ms/step - accuracy: 0.4464 - loss: 1.5315\n",
            "Epoch 25/50\n",
            "\u001b[1m782/782\u001b[0m \u001b[32m━━━━━━━━━━━━━━━━━━━━\u001b[0m\u001b[37m\u001b[0m \u001b[1m3s\u001b[0m 3ms/step - accuracy: 0.4512 - loss: 1.5220\n",
            "Epoch 26/50\n",
            "\u001b[1m782/782\u001b[0m \u001b[32m━━━━━━━━━━━━━━━━━━━━\u001b[0m\u001b[37m\u001b[0m \u001b[1m2s\u001b[0m 3ms/step - accuracy: 0.4568 - loss: 1.5058\n",
            "Epoch 27/50\n",
            "\u001b[1m782/782\u001b[0m \u001b[32m━━━━━━━━━━━━━━━━━━━━\u001b[0m\u001b[37m\u001b[0m \u001b[1m2s\u001b[0m 3ms/step - accuracy: 0.4617 - loss: 1.4988\n",
            "Epoch 28/50\n",
            "\u001b[1m782/782\u001b[0m \u001b[32m━━━━━━━━━━━━━━━━━━━━\u001b[0m\u001b[37m\u001b[0m \u001b[1m3s\u001b[0m 3ms/step - accuracy: 0.4649 - loss: 1.4888\n",
            "Epoch 29/50\n",
            "\u001b[1m782/782\u001b[0m \u001b[32m━━━━━━━━━━━━━━━━━━━━\u001b[0m\u001b[37m\u001b[0m \u001b[1m2s\u001b[0m 3ms/step - accuracy: 0.4704 - loss: 1.4782\n",
            "Epoch 30/50\n",
            "\u001b[1m782/782\u001b[0m \u001b[32m━━━━━━━━━━━━━━━━━━━━\u001b[0m\u001b[37m\u001b[0m \u001b[1m3s\u001b[0m 3ms/step - accuracy: 0.4720 - loss: 1.4717\n",
            "Epoch 31/50\n",
            "\u001b[1m782/782\u001b[0m \u001b[32m━━━━━━━━━━━━━━━━━━━━\u001b[0m\u001b[37m\u001b[0m \u001b[1m5s\u001b[0m 3ms/step - accuracy: 0.4730 - loss: 1.4630\n",
            "Epoch 32/50\n",
            "\u001b[1m782/782\u001b[0m \u001b[32m━━━━━━━━━━━━━━━━━━━━\u001b[0m\u001b[37m\u001b[0m \u001b[1m3s\u001b[0m 3ms/step - accuracy: 0.4787 - loss: 1.4530\n",
            "Epoch 33/50\n",
            "\u001b[1m782/782\u001b[0m \u001b[32m━━━━━━━━━━━━━━━━━━━━\u001b[0m\u001b[37m\u001b[0m \u001b[1m2s\u001b[0m 3ms/step - accuracy: 0.4814 - loss: 1.4463\n",
            "Epoch 34/50\n",
            "\u001b[1m782/782\u001b[0m \u001b[32m━━━━━━━━━━━━━━━━━━━━\u001b[0m\u001b[37m\u001b[0m \u001b[1m3s\u001b[0m 3ms/step - accuracy: 0.4864 - loss: 1.4333\n",
            "Epoch 35/50\n",
            "\u001b[1m782/782\u001b[0m \u001b[32m━━━━━━━━━━━━━━━━━━━━\u001b[0m\u001b[37m\u001b[0m \u001b[1m2s\u001b[0m 3ms/step - accuracy: 0.4836 - loss: 1.4282\n",
            "Epoch 36/50\n",
            "\u001b[1m782/782\u001b[0m \u001b[32m━━━━━━━━━━━━━━━━━━━━\u001b[0m\u001b[37m\u001b[0m \u001b[1m2s\u001b[0m 3ms/step - accuracy: 0.4908 - loss: 1.4199\n",
            "Epoch 37/50\n",
            "\u001b[1m782/782\u001b[0m \u001b[32m━━━━━━━━━━━━━━━━━━━━\u001b[0m\u001b[37m\u001b[0m \u001b[1m2s\u001b[0m 3ms/step - accuracy: 0.4948 - loss: 1.4111\n",
            "Epoch 38/50\n",
            "\u001b[1m782/782\u001b[0m \u001b[32m━━━━━━━━━━━━━━━━━━━━\u001b[0m\u001b[37m\u001b[0m \u001b[1m3s\u001b[0m 3ms/step - accuracy: 0.5003 - loss: 1.4010\n",
            "Epoch 39/50\n",
            "\u001b[1m782/782\u001b[0m \u001b[32m━━━━━━━━━━━━━━━━━━━━\u001b[0m\u001b[37m\u001b[0m \u001b[1m3s\u001b[0m 4ms/step - accuracy: 0.5026 - loss: 1.3904\n",
            "Epoch 40/50\n",
            "\u001b[1m782/782\u001b[0m \u001b[32m━━━━━━━━━━━━━━━━━━━━\u001b[0m\u001b[37m\u001b[0m \u001b[1m5s\u001b[0m 3ms/step - accuracy: 0.5035 - loss: 1.3857\n",
            "Epoch 41/50\n",
            "\u001b[1m782/782\u001b[0m \u001b[32m━━━━━━━━━━━━━━━━━━━━\u001b[0m\u001b[37m\u001b[0m \u001b[1m2s\u001b[0m 3ms/step - accuracy: 0.5091 - loss: 1.3762\n",
            "Epoch 42/50\n",
            "\u001b[1m782/782\u001b[0m \u001b[32m━━━━━━━━━━━━━━━━━━━━\u001b[0m\u001b[37m\u001b[0m \u001b[1m3s\u001b[0m 3ms/step - accuracy: 0.5091 - loss: 1.3724\n",
            "Epoch 43/50\n",
            "\u001b[1m782/782\u001b[0m \u001b[32m━━━━━━━━━━━━━━━━━━━━\u001b[0m\u001b[37m\u001b[0m \u001b[1m3s\u001b[0m 4ms/step - accuracy: 0.5165 - loss: 1.3567\n",
            "Epoch 44/50\n",
            "\u001b[1m782/782\u001b[0m \u001b[32m━━━━━━━━━━━━━━━━━━━━\u001b[0m\u001b[37m\u001b[0m \u001b[1m3s\u001b[0m 3ms/step - accuracy: 0.5136 - loss: 1.3529\n",
            "Epoch 45/50\n",
            "\u001b[1m782/782\u001b[0m \u001b[32m━━━━━━━━━━━━━━━━━━━━\u001b[0m\u001b[37m\u001b[0m \u001b[1m2s\u001b[0m 3ms/step - accuracy: 0.5170 - loss: 1.3454\n",
            "Epoch 46/50\n",
            "\u001b[1m782/782\u001b[0m \u001b[32m━━━━━━━━━━━━━━━━━━━━\u001b[0m\u001b[37m\u001b[0m \u001b[1m2s\u001b[0m 3ms/step - accuracy: 0.5149 - loss: 1.3454\n",
            "Epoch 47/50\n",
            "\u001b[1m782/782\u001b[0m \u001b[32m━━━━━━━━━━━━━━━━━━━━\u001b[0m\u001b[37m\u001b[0m \u001b[1m3s\u001b[0m 3ms/step - accuracy: 0.5226 - loss: 1.3346\n",
            "Epoch 48/50\n",
            "\u001b[1m782/782\u001b[0m \u001b[32m━━━━━━━━━━━━━━━━━━━━\u001b[0m\u001b[37m\u001b[0m \u001b[1m3s\u001b[0m 3ms/step - accuracy: 0.5273 - loss: 1.3223\n",
            "Epoch 49/50\n",
            "\u001b[1m782/782\u001b[0m \u001b[32m━━━━━━━━━━━━━━━━━━━━\u001b[0m\u001b[37m\u001b[0m \u001b[1m5s\u001b[0m 3ms/step - accuracy: 0.5271 - loss: 1.3201\n",
            "Epoch 50/50\n",
            "\u001b[1m782/782\u001b[0m \u001b[32m━━━━━━━━━━━━━━━━━━━━\u001b[0m\u001b[37m\u001b[0m \u001b[1m3s\u001b[0m 3ms/step - accuracy: 0.5308 - loss: 1.3140\n"
          ]
        }
      ],
      "source": [
        "history = model.fit(train_x, train_y, epochs=50, verbose=True, batch_size=64)"
      ]
    },
    {
      "cell_type": "code",
      "execution_count": 26,
      "id": "0d0dd9d4",
      "metadata": {
        "colab": {
          "base_uri": "https://localhost:8080/"
        },
        "id": "0d0dd9d4",
        "outputId": "7ca5d723-4cf7-41cc-e0d7-db98e6401b4c"
      },
      "outputs": [
        {
          "name": "stdout",
          "output_type": "stream",
          "text": [
            "\u001b[1m313/313\u001b[0m \u001b[32m━━━━━━━━━━━━━━━━━━━━\u001b[0m\u001b[37m\u001b[0m \u001b[1m2s\u001b[0m 3ms/step - accuracy: 0.5313 - loss: 1.3395\n"
          ]
        }
      ],
      "source": [
        "results = model.evaluate(test_x, test_y, verbose=True)\n"
      ]
    },
    {
      "cell_type": "code",
      "execution_count": 27,
      "id": "9a3d170d",
      "metadata": {
        "colab": {
          "base_uri": "https://localhost:8080/"
        },
        "id": "9a3d170d",
        "outputId": "9379b30b-fb83-488b-d1bc-7c8e31602a2c"
      },
      "outputs": [
        {
          "name": "stdout",
          "output_type": "stream",
          "text": [
            "\n",
            "\n",
            "Accuracy on training set is 0.5266000032424927\n",
            "\n",
            "Accuracy on test set is 0.5256999731063843\n"
          ]
        }
      ],
      "source": [
        "print(\"\\n\\nAccuracy on training set is {}\".format(history.history[\"accuracy\"][-1]))\n",
        "print(\"\\nAccuracy on test set is {}\".format(results[1]))"
      ]
    },
    {
      "cell_type": "markdown",
      "id": "791bce3e",
      "metadata": {
        "id": "791bce3e"
      },
      "source": [
        "Loss Plot"
      ]
    },
    {
      "cell_type": "code",
      "execution_count": 29,
      "id": "f0560b37",
      "metadata": {
        "colab": {
          "base_uri": "https://localhost:8080/",
          "height": 472
        },
        "id": "f0560b37",
        "outputId": "5cebd777-f56a-45b8-b4fe-1712db02f681"
      },
      "outputs": [
        {
          "data": {
            "image/png": "[encoded data removed]",
            "text/plain": [
              "<Figure size 640x480 with 1 Axes>"
            ]
          },
          "metadata": {},
          "output_type": "display_data"
        }
      ],
      "source": [
        "plt.plot(history.history['loss'], label='Train Loss')\n",
        "plt.legend()\n",
        "plt.title('Model Loss')\n",
        "plt.xlabel('Epochs')\n",
        "plt.ylabel('Loss')\n",
        "plt.show()"
      ]
    },
    {
      "cell_type": "markdown",
      "id": "e1f79eb3",
      "metadata": {
        "id": "e1f79eb3"
      },
      "source": [
        "Accuracy Plot"
      ]
    },
    {
      "cell_type": "code",
      "execution_count": 30,
      "id": "95bace4a",
      "metadata": {
        "colab": {
          "base_uri": "https://localhost:8080/",
          "height": 472
        },
        "id": "95bace4a",
        "outputId": "7e8bdd58-4b88-4fad-c933-4e6878c4a7f6"
      },
      "outputs": [
        {
          "data": {
            "image/png": "[encoded data removed]",
            "text/plain": [
              "<Figure size 640x480 with 1 Axes>"
            ]
          },
          "metadata": {},
          "output_type": "display_data"
        }
      ],
      "source": [
        "plt.plot(history.history['accuracy'], label='Train Acc')\n",
        "plt.legend()\n",
        "plt.title('Model Accuracy')\n",
        "plt.xlabel('Epochs')\n",
        "plt.ylabel('Accuracy')\n",
        "plt.show()"
      ]
    },
    {
      "cell_type": "markdown",
      "id": "d2f41abc",
      "metadata": {
        "id": "d2f41abc"
      },
      "source": [
        "Confusion Matrix"
      ]
    },
    {
      "cell_type": "code",
      "execution_count": 31,
      "id": "d92a129e",
      "metadata": {
        "id": "d92a129e"
      },
      "outputs": [],
      "source": [
        "from sklearn.metrics import confusion_matrix\n",
        "import seaborn as sns\n",
        "import matplotlib.pyplot as plt"
      ]
    },
    {
      "cell_type": "code",
      "execution_count": 32,
      "id": "PXo2xalrRP79",
      "metadata": {
        "colab": {
          "base_uri": "https://localhost:8080/",
          "height": 800
        },
        "id": "PXo2xalrRP79",
        "outputId": "a510d09d-b1d4-4c39-9bd0-176b98692709"
      },
      "outputs": [
        {
          "name": "stdout",
          "output_type": "stream",
          "text": [
            "\u001b[1m313/313\u001b[0m \u001b[32m━━━━━━━━━━━━━━━━━━━━\u001b[0m\u001b[37m\u001b[0m \u001b[1m1s\u001b[0m 3ms/step\n"
          ]
        },
        {
          "data": {
            "image/png": "[encoded data removed]",
            "text/plain": [
              "<Figure size 1000x800 with 2 Axes>"
            ]
          },
          "metadata": {},
          "output_type": "display_data"
        }
      ],
      "source": [
        "# Predict and convert to labels\n",
        "y_pred = np.argmax(model.predict(test_x_flatten), axis=1)\n",
        "y_true = np.argmax(test_y, axis=1)\n",
        "\n",
        "# Plot confusion matrix\n",
        "plt.figure(figsize=(10,8))\n",
        "sns.heatmap(confusion_matrix(y_true, y_pred), annot=True, fmt='d', cmap='Blues',\n",
        "            xticklabels=['airplane','automobile','bird','cat','deer','dog','frog','horse','ship','truck'],\n",
        "            yticklabels=['airplane','automobile','bird','cat','deer','dog','frog','horse','ship','truck'])\n",
        "plt.xlabel('Predicted'); plt.ylabel('True'); plt.title('Confusion Matrix')\n",
        "plt.show()"
      ]
    },
    {
      "cell_type": "code",
      "execution_count": 33,
      "id": "TsJeHXSXR3mF",
      "metadata": {
        "colab": {
          "base_uri": "https://localhost:8080/"
        },
        "id": "TsJeHXSXR3mF",
        "outputId": "74ed3fe2-3924-478a-b520-b1f20e657950"
      },
      "outputs": [
        {
          "name": "stdout",
          "output_type": "stream",
          "text": [
            "              precision    recall  f1-score   support\n",
            "\n",
            "    airplane       0.25      0.75      0.37      1000\n",
            "  automobile       0.67      0.36      0.46      1000\n",
            "        bird       0.42      0.01      0.02      1000\n",
            "         cat       0.26      0.03      0.06      1000\n",
            "        deer       0.00      0.00      0.00      1000\n",
            "         dog       0.18      0.75      0.29      1000\n",
            "        frog       0.75      0.00      0.01      1000\n",
            "       horse       0.47      0.45      0.46      1000\n",
            "        ship       0.64      0.39      0.49      1000\n",
            "       truck       0.63      0.34      0.44      1000\n",
            "\n",
            "    accuracy                           0.31     10000\n",
            "   macro avg       0.43      0.31      0.26     10000\n",
            "weighted avg       0.43      0.31      0.26     10000\n",
            "\n"
          ]
        },
        {
          "name": "stderr",
          "output_type": "stream",
          "text": [
            "/usr/local/lib/python3.11/dist-packages/sklearn/metrics/_classification.py:1565: UndefinedMetricWarning: Precision is ill-defined and being set to 0.0 in labels with no predicted samples. Use `zero_division` parameter to control this behavior.\n",
            "  _warn_prf(average, modifier, f\"{metric.capitalize()} is\", len(result))\n",
            "/usr/local/lib/python3.11/dist-packages/sklearn/metrics/_classification.py:1565: UndefinedMetricWarning: Precision is ill-defined and being set to 0.0 in labels with no predicted samples. Use `zero_division` parameter to control this behavior.\n",
            "  _warn_prf(average, modifier, f\"{metric.capitalize()} is\", len(result))\n",
            "/usr/local/lib/python3.11/dist-packages/sklearn/metrics/_classification.py:1565: UndefinedMetricWarning: Precision is ill-defined and being set to 0.0 in labels with no predicted samples. Use `zero_division` parameter to control this behavior.\n",
            "  _warn_prf(average, modifier, f\"{metric.capitalize()} is\", len(result))\n"
          ]
        }
      ],
      "source": [
        "from sklearn.metrics import classification_report\n",
        "\n",
        "# Print classification report\n",
        "print(classification_report(y_true, y_pred, target_names=[\n",
        "    'airplane', 'automobile', 'bird', 'cat', 'deer',\n",
        "    'dog', 'frog', 'horse', 'ship', 'truck'\n",
        "]))"
      ]
    }
  ],
  "metadata": {
    "colab": {
      "collapsed_sections": [
        "2d540fb1",
        "4gD9LpO1QNPI"
      ],
      "provenance": []
    },
    "kernelspec": {
      "display_name": "Python 3",
      "name": "python3"
    },
    "language_info": {
      "codemirror_mode": {
        "name": "ipython",
        "version": 3
      },
      "file_extension": ".py",
      "mimetype": "text/x-python",
      "name": "python",
      "nbconvert_exporter": "python",
      "pygments_lexer": "ipython3",
      "version": "3.12.3"
    }
  },
  "nbformat": 4,
  "nbformat_minor": 5
}
